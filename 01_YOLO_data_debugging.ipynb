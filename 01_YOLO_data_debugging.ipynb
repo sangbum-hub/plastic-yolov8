{
 "cells": [
  {
   "cell_type": "markdown",
   "metadata": {},
   "source": [
    "## .json 파일 -> .txt 파일 (YOLO)"
   ]
  },
  {
   "cell_type": "code",
   "execution_count": 1,
   "metadata": {},
   "outputs": [],
   "source": [
    "import os\n",
    "import json\n",
    "import itertools\n",
    "\n",
    "folder_path = './recycle_sample/label/TL_PET_0'                         # .json 폴더 경로\n",
    "output_folder = './recycle_sample/new_label'  # .txt 파일로 변환 후 저장할 폴더 경로\n",
    "\n",
    "# 폴더가 없으면 생성\n",
    "if not os.path.exists(output_folder):\n",
    "    os.makedirs(output_folder)\n",
    "\n",
    "for filename in os.listdir(folder_path):\n",
    "    if filename.endswith('.json'):\n",
    "        with open(os.path.join(folder_path, filename), 'r') as json_file:\n",
    "            json_data = json.load(json_file)\n",
    "\n",
    "            seg_list = []\n",
    "\n",
    "            for annotation in json_data['annotations']:\n",
    "                pixel = list(itertools.chain.from_iterable(annotation['segmentation']))\n",
    "                seg_data = [x / 2048 for x in pixel]\n",
    "                seg_list.append(seg_data)\n",
    "\n",
    "            # 파일명에 따라 클래스 번호 지정\n",
    "            if 'PET' in filename:\n",
    "                class_number = 1\n",
    "            elif 'PP' in filename:\n",
    "                class_number = 2\n",
    "            elif 'PS' in filename:\n",
    "                class_number = 3\n",
    "            else:\n",
    "                class_number = 0\n",
    "\n",
    "            output_filename = os.path.splitext(filename)[0] + '.txt'\n",
    "            output_path = os.path.join(output_folder, output_filename)\n",
    "\n",
    "            with open(output_path, 'w') as file:\n",
    "                for data in seg_list:\n",
    "                    file.write(str(class_number) + ' ')\n",
    "                    file.write(' '.join(map(str, data)) + '\\n')"
   ]
  },
  {
   "cell_type": "markdown",
   "metadata": {},
   "source": [
    "## Split Data (Train, Validation, Test)"
   ]
  },
  {
   "cell_type": "code",
   "execution_count": null,
   "metadata": {},
   "outputs": [],
   "source": [
    "import os\n",
    "import shutil\n",
    "from sklearn.model_selection import train_test_split\n",
    "\n",
    "image_folder = './recycle_sample/image/TS_PET_1'               # 이미지 데이터 폴더 경로\n",
    "label_folder = './recycle_sample/new_label'    # .txt 변환한 라벨링 데이터 폴더 경로\n",
    "output_folder = './recycle_sample/training_data'         # 새롭게 저장할 폴더 경로\n",
    "\n",
    "if not os.path.exists(output_folder):\n",
    "    os.makedirs(output_folder)\n",
    "\n",
    "# 이미지폴더와 라벨링폴더의 파일 리스트 가져오기\n",
    "image_files = os.listdir(image_folder)\n",
    "label_files = os.listdir(label_folder)\n",
    "\n",
    "# 이미지폴더와 라벨링폴더의 파일명에서 확장자 제거 후 정렬\n",
    "image_names = sorted([os.path.splitext(file)[0] for file in image_files])\n",
    "label_names = sorted([os.path.splitext(file)[0] for file in label_files])\n",
    "\n",
    "# train, val, test로 데이터 분리\n",
    "image_train, image_val_test, label_train, label_val_test = train_test_split(image_names, label_names, test_size=0.25, random_state=42)\n",
    "image_val, image_test, label_val, label_test = train_test_split(image_val_test, label_val_test, test_size=0.25, random_state=42)\n",
    "\n",
    "# 이전에 생성한 output_folder 안에 images, labels 폴더를 생성하고 그 안에 train, val, test 폴더 생성\n",
    "for folder in ['images', 'labels']:\n",
    "    folder_path = os.path.join(output_folder, folder)\n",
    "    os.makedirs(os.path.join(folder_path, 'train'), exist_ok=True)\n",
    "    os.makedirs(os.path.join(folder_path, 'val'), exist_ok=True)\n",
    "    os.makedirs(os.path.join(folder_path, 'test'), exist_ok=True)\n",
    "\n",
    "# 파일 복사\n",
    "for image_name, label_name in zip(image_train, label_train):\n",
    "    shutil.copy(os.path.join(image_folder, image_name + '.jpg'), os.path.join(output_folder, 'images', 'train', image_name + '.jpg'))\n",
    "    shutil.copy(os.path.join(label_folder, label_name + '.txt'), os.path.join(output_folder, 'labels', 'train', label_name + '.txt'))\n",
    "\n",
    "for image_name, label_name in zip(image_val, label_val):\n",
    "    shutil.copy(os.path.join(image_folder, image_name + '.jpg'), os.path.join(output_folder, 'images', 'val', image_name + '.jpg'))\n",
    "    shutil.copy(os.path.join(label_folder, label_name + '.txt'), os.path.join(output_folder, 'labels', 'val', label_name + '.txt'))\n",
    "\n",
    "for image_name, label_name in zip(image_test, label_test):\n",
    "    shutil.copy(os.path.join(image_folder, image_name + '.jpg'), os.path.join(output_folder, 'images', 'test', image_name + '.jpg'))\n",
    "    shutil.copy(os.path.join(label_folder, label_name + '.txt'), os.path.join(output_folder, 'labels', 'test', label_name + '.txt'))"
   ]
  }
 ],
 "metadata": {
  "kernelspec": {
   "display_name": "py3.8",
   "language": "python",
   "name": "python3"
  },
  "language_info": {
   "codemirror_mode": {
    "name": "ipython",
    "version": 3
   },
   "file_extension": ".py",
   "mimetype": "text/x-python",
   "name": "python",
   "nbconvert_exporter": "python",
   "pygments_lexer": "ipython3",
   "version": "3.8.18"
  }
 },
 "nbformat": 4,
 "nbformat_minor": 2
}
